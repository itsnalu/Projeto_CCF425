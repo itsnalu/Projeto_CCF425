{
  "cells": [
    {
      "cell_type": "markdown",
      "metadata": {
        "id": "view-in-github",
        "colab_type": "text"
      },
      "source": [
        "<a href=\"https://colab.research.google.com/github/itsnalu/Projeto_CCF425/blob/main/Projeto_CCF425.ipynb\" target=\"_parent\"><img src=\"https://colab.research.google.com/assets/colab-badge.svg\" alt=\"Open In Colab\"/></a>"
      ]
    },
    {
      "cell_type": "code",
      "execution_count": null,
      "metadata": {
        "id": "oDn5PMXugX1r"
      },
      "outputs": [],
      "source": [
        "import pandas as pd\n",
        "import numpy as np"
      ]
    },
    {
      "cell_type": "code",
      "execution_count": null,
      "metadata": {
        "id": "KbWeK6CFmGsV"
      },
      "outputs": [],
      "source": [
        "from google.colab import drive\n",
        "drive.mount('/content/drive')"
      ]
    },
    {
      "cell_type": "code",
      "execution_count": null,
      "metadata": {
        "id": "BWW1GbcKhE0w"
      },
      "outputs": [],
      "source": [
        "df= pd.read_csv(\"/content/drive/MyDrive/SPSafe_2022.csv\", delimiter=\";\")\n",
        "\n"
      ]
    },
    {
      "cell_type": "code",
      "execution_count": null,
      "metadata": {
        "id": "T1VyqXY8QZ3l"
      },
      "outputs": [],
      "source": [
        "pd.set_option('display.max_colwidth', None) #definir a opção para mostrar todo o conteúdo das células\n",
        "pd.set_option('display.max_rows', None) #definir a opção para mostrar todas as linhas\n",
        "pd.set_option('display.max_columns', None)  # Exibir todas as colunas do DataFrame\n",
        "df.head()"
      ]
    },
    {
      "cell_type": "code",
      "execution_count": null,
      "metadata": {
        "id": "biqIEWmrSEnz"
      },
      "outputs": [],
      "source": [
        "print(f'Numero de crimes: {df.shape[0]}')"
      ]
    },
    {
      "cell_type": "code",
      "execution_count": null,
      "metadata": {
        "id": "q-uCW2mzXFCE"
      },
      "outputs": [],
      "source": [
        "df.dtypes"
      ]
    },
    {
      "cell_type": "code",
      "execution_count": null,
      "metadata": {
        "id": "isqNOMZvXce7"
      },
      "outputs": [],
      "source": [
        "df[df['IDADE_PESSOA'] == df['IDADE_PESSOA'].max()]"
      ]
    },
    {
      "cell_type": "code",
      "execution_count": null,
      "metadata": {
        "id": "BeavcC0e5JyR"
      },
      "outputs": [],
      "source": [
        "print(df.sum())\n"
      ]
    },
    {
      "cell_type": "code",
      "execution_count": null,
      "metadata": {
        "id": "2xDRc4oTdALT"
      },
      "outputs": [],
      "source": [
        "df['COR_PELE'].hist()"
      ]
    },
    {
      "cell_type": "code",
      "execution_count": null,
      "metadata": {
        "id": "tEqM0absdHbI"
      },
      "outputs": [],
      "source": [
        "df['SEXO_PESSOA'].hist()"
      ]
    },
    {
      "cell_type": "code",
      "execution_count": null,
      "metadata": {
        "id": "Dr1kkAS1kFg1"
      },
      "outputs": [],
      "source": [
        "roubos = [s for s in df['NATUREZA_APURADA'].unique() if 'ROUBO' in s]\n",
        "print(roubos)"
      ]
    },
    {
      "cell_type": "code",
      "execution_count": null,
      "metadata": {
        "id": "St4X7pZIdQLl"
      },
      "outputs": [],
      "source": [
        "df['DATA_OCORRENCIA'] = pd.to_datetime(df['DATA_OCORRENCIA'])"
      ]
    },
    {
      "cell_type": "code",
      "execution_count": null,
      "metadata": {
        "id": "vkTfKOKdfnuS"
      },
      "outputs": [],
      "source": [
        "df_2022 = df[df['DATA_OCORRENCIA'].dt.year == 2022]"
      ]
    },
    {
      "cell_type": "code",
      "execution_count": null,
      "metadata": {
        "id": "j5gZynyojepa"
      },
      "outputs": [],
      "source": [
        "tipos_assalto = ['ROUBO (ART. 157) - ESTABELECIMENTO COMERCIAL', 'ROUBO (ART. 157) - CARGA', 'ROUBO (ART. 157) - INTERIOR DE VEICULO']\n"
      ]
    },
    {
      "cell_type": "code",
      "execution_count": null,
      "metadata": {
        "id": "x4hzkvKPjk9L"
      },
      "outputs": [],
      "source": [
        "assaltos = df_2022[df_2022['NATUREZA_APURADA'].isin(['A.I.-ROUBO (ART. 157) - TRANSEUNTE'])]"
      ]
    },
    {
      "cell_type": "code",
      "execution_count": null,
      "metadata": {
        "id": "fkHRbH-yfx3e"
      },
      "outputs": [],
      "source": [
        "assaltos_por_data = assaltos.groupby('DATA_OCORRENCIA')['NATUREZA_APURADA'].count().reset_index()\n",
        "assaltos_por_data.columns = ['DATA_OCORRENCIA', 'NUM_ASSALTOS']"
      ]
    },
    {
      "cell_type": "code",
      "execution_count": null,
      "metadata": {
        "id": "mLx631U9gxPu"
      },
      "outputs": [],
      "source": [
        "assaltos_por_mes = assaltos.groupby(assaltos['DATA_OCORRENCIA'].dt.month)['NATUREZA_APURADA'].count().reset_index()\n",
        "assaltos_por_mes.columns = ['Mês', 'Número de Assaltos']"
      ]
    },
    {
      "cell_type": "code",
      "execution_count": null,
      "metadata": {
        "id": "wyGSIOJvgzpa"
      },
      "outputs": [],
      "source": [
        "meses = {\n",
        "    1: 'Janeiro', 2: 'Fevereiro', 3: 'Março', 4: 'Abril', 5: 'Maio', 6: 'Junho',\n",
        "    7: 'Julho', 8: 'Agosto', 9: 'Setembro', 10: 'Outubro', 11: 'Novembro', 12: 'Dezembro'\n",
        "}"
      ]
    },
    {
      "cell_type": "code",
      "execution_count": null,
      "metadata": {
        "id": "HANAxi3qg1pX"
      },
      "outputs": [],
      "source": [
        "assaltos_por_mes['Mês'] = assaltos_por_mes['Mês'].map(meses)\n"
      ]
    },
    {
      "cell_type": "code",
      "execution_count": null,
      "metadata": {
        "id": "Bclv8xHogTZr"
      },
      "outputs": [],
      "source": [
        "import matplotlib.pyplot as plt"
      ]
    },
    {
      "cell_type": "code",
      "execution_count": null,
      "metadata": {
        "id": "hym3GStmhPfj"
      },
      "outputs": [],
      "source": [
        "plt.figure(figsize=(10, 6))  # Ajuste o tamanho da figura, se necessário\n",
        "plt.bar(assaltos_por_mes['Mês'], assaltos_por_mes['Número de Assaltos'])\n",
        "plt.xlabel('Mês')\n",
        "plt.ylabel('Número de Assaltos')\n",
        "plt.title('Assaltos por Mês (2022)')\n",
        "plt.xticks(rotation=45, ha='right')  # Rotaciona os rótulos do eixo x para melhor visualização\n",
        "plt.tight_layout()\n",
        "plt.show()"
      ]
    },
    {
      "cell_type": "code",
      "execution_count": null,
      "metadata": {
        "id": "cWkCXXcc0XfT"
      },
      "outputs": [],
      "source": [
        "\n",
        "women_df = df[df['SEXO_PESSOA'] == 'FEMININO']\n",
        "\n",
        "# Agrupa por tipo de crime e conta o número de ocorrências\n",
        "crime_counts = women_df.groupby('NATUREZA_APURADA')['NATUREZA_APURADA'].count()\n",
        "\n",
        "# Ordena os crimes pela contagem em ordem decrescente para melhor visualização\n",
        "crime_counts = crime_counts.sort_values(ascending=False)\n",
        "\n",
        "# Seleciona os 10 crimes mais comuns (ajuste o número conforme necessário)\n",
        "top_10_crimes = crime_counts.head(10)\n",
        "\n",
        "# Cria o gráfico de barras\n",
        "plt.figure(figsize=(12, 6))\n",
        "plt.bar(top_10_crimes.index, top_10_crimes.values)\n",
        "plt.xlabel('Tipo de Crime')\n",
        "plt.ylabel('Número de Ocorrências')\n",
        "plt.title('Top 10 Crimes Sofridos por Mulheres')\n",
        "plt.xticks(rotation=90, ha='right') # Rotaciona os rótulos do eixo x para melhor legibilidade\n",
        "plt.tight_layout()\n",
        "plt.show()\n"
      ]
    },
    {
      "cell_type": "code",
      "execution_count": null,
      "metadata": {
        "id": "MGmwaps59-iu"
      },
      "outputs": [],
      "source": [
        "men_df = df[df['SEXO_PESSOA'] == 'MASCULINO']\n",
        "\n",
        "# Agrupa por tipo de crime e conta o número de ocorrências\n",
        "crime_counts = men_df.groupby('NATUREZA_APURADA')['NATUREZA_APURADA'].count()\n",
        "\n",
        "# Ordena os crimes pela contagem em ordem decrescente para melhor visualização\n",
        "crime_counts = crime_counts.sort_values(ascending=False)\n",
        "\n",
        "# Seleciona os 10 crimes mais comuns (ajuste o número conforme necessário)\n",
        "top_10_crimes = crime_counts.head(10)\n",
        "\n",
        "# Cria o gráfico de barras\n",
        "plt.figure(figsize=(12, 6))\n",
        "plt.bar(top_10_crimes.index, top_10_crimes.values)\n",
        "plt.xlabel('Tipo de Crime')\n",
        "plt.ylabel('Número de Ocorrências')\n",
        "plt.title('Top 10 Crimes Sofridos por Homens')\n",
        "plt.xticks(rotation=90, ha='right') # Rotaciona os rótulos do eixo x para melhor legibilidade\n",
        "plt.tight_layout()\n",
        "plt.show()"
      ]
    },
    {
      "cell_type": "code",
      "execution_count": null,
      "metadata": {
        "id": "vy5KF6ihAMgV"
      },
      "outputs": [],
      "source": [
        "duplicatas = df.duplicated()\n",
        "print(duplicatas.sum())  # Mostra a quantidade de linhas duplicadas\n"
      ]
    },
    {
      "cell_type": "code",
      "execution_count": null,
      "metadata": {
        "id": "XpD5j7zVDZfE"
      },
      "outputs": [],
      "source": [
        "print(df.isnull().sum())  # Conta quantos valores faltantes há por coluna\n"
      ]
    },
    {
      "cell_type": "code",
      "execution_count": null,
      "metadata": {
        "id": "u3OoJEh_Dn_r"
      },
      "outputs": [],
      "source": [
        "# Valores faltantes maior para menor\n",
        "print(df.isnull().sum().sort_values(ascending=False))\n",
        "\n",
        "# Exemplo de colunas críticas para verificar:\n",
        "# - DATA_OCORRENCIA (datas ausentes?)\n",
        "# - BAIRRO (localização precisa?)\n",
        "# - LATITUDE/LONGITUDE (valores válidos?)"
      ]
    },
    {
      "cell_type": "code",
      "execution_count": null,
      "metadata": {
        "id": "UvYeFVnCHz9D"
      },
      "outputs": [],
      "source": [
        "contador_etnia = df['COR_PELE'].value_counts()\n",
        "print(contador_etnia)\n",
        "#talvez trocar NaN para não declarado?\n",
        "#vermelha?"
      ]
    },
    {
      "cell_type": "code",
      "execution_count": null,
      "metadata": {
        "id": "4CJ43rQXbbVL"
      },
      "outputs": [],
      "source": [
        "valores_unicos_sem_nan = df['COR_PELE'].dropna().unique()\n",
        "print(\"Valores únicos (sem NaN):\")\n",
        "for valor in valores_unicos_sem_nan:\n",
        "    print(\"Valor: \", valor)"
      ]
    },
    {
      "cell_type": "code",
      "source": [
        "#Tratamento COR_PELE\n",
        "df['COR_PELE'] = df['COR_PELE'].str.strip()  # Remove espaços no início/fim\n",
        "df['COR_PELE'] = df['COR_PELE'].replace(r'^\\s*$', np.nan, regex=True)"
      ],
      "metadata": {
        "id": "mJuiZTdod45R"
      },
      "execution_count": null,
      "outputs": []
    },
    {
      "cell_type": "code",
      "source": [
        "contador_etnia = df['COR_PELE'].value_counts()\n",
        "print(contador_etnia)\n",
        "#talvez trocar NaN para não declarado?\n",
        "#vermelha?"
      ],
      "metadata": {
        "id": "n860KsUSsVs4"
      },
      "execution_count": null,
      "outputs": []
    }
  ],
  "metadata": {
    "colab": {
      "provenance": [],
      "include_colab_link": true
    },
    "kernelspec": {
      "display_name": "Python 3",
      "name": "python3"
    },
    "language_info": {
      "name": "python"
    }
  },
  "nbformat": 4,
  "nbformat_minor": 0
}